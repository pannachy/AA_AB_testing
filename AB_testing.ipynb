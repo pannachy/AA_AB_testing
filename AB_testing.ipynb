{
 "cells": [
  {
   "cell_type": "code",
   "execution_count": 2,
   "id": "13e16b5c-832d-40cc-9267-e5c4390db94f",
   "metadata": {
    "tags": []
   },
   "outputs": [],
   "source": [
    "import pandahouse as ph\n",
    "import pandas as pd\n",
    "import numpy as np\n",
    "import matplotlib.pyplot as plt\n",
    "import seaborn as sns\n",
    "import scipy.stats as stats\n",
    "import hashlib"
   ]
  },
  {
   "cell_type": "code",
   "execution_count": 5,
   "id": "2338712b-5430-43c6-b8d9-c34e60922f53",
   "metadata": {},
   "outputs": [],
   "source": [
    "params = {\n",
    "    'axes.edgecolor': 'gray',\n",
    "    'figure.figsize': [8, 6]}\n",
    "plt.rcParams.update(params)"
   ]
  },
  {
   "cell_type": "code",
   "execution_count": 6,
   "id": "3cb5975c-125f-4faf-b552-b659d2869821",
   "metadata": {},
   "outputs": [],
   "source": [
    "connection = {\n",
    "    'host': host,\n",
    "    'password': password,\n",
    "    'user': user,\n",
    "    'database': database'\n",
    "}"
   ]
  },
  {
   "cell_type": "markdown",
   "id": "c3c9fc67-e321-4788-9dcd-11a6937756d7",
   "metadata": {},
   "source": [
    "## A/B тестирование"
   ]
  },
  {
   "cell_type": "markdown",
   "id": "26a4de62-eb25-4432-bed8-59ad471d127d",
   "metadata": {},
   "source": [
    "## Задача \n",
    "\n",
    "В группе 2 был использован один из новых алгоритмов рекомендации постов, группа 3 использовалась в качестве контроля. Эксперимент проходил с 2023-01-01 по 2023-01-07 включительно. <br>\n",
    "Основная гипотеза заключается в том, что новый алгоритм во 2-й группе приведет к увеличению CTR. <br>\n",
    "Задача — проанализировать данные АB-теста. Написать рекомендацию, стоит ли раскатывать алгоритм на всех пользователей\n",
    "\n",
    "Проверим гипотезу несколькими методами:\n",
    "- t-тест, \n",
    "- Пуассоновский бутстреп, \n",
    "- тест Манна-Уитни, \n",
    "- t-тест на сглаженном ctr (α=5),\n",
    "- t-тест и тест Манна-Уитни поверх бакетного преобразования."
   ]
  },
  {
   "cell_type": "markdown",
   "id": "e7c9a7ef-ea41-4bd8-a1ea-99abe11fcf79",
   "metadata": {},
   "source": [
    "### A/A тест\n",
    "\n",
    "проверим, нне было ли статзанчимых различий в выборках до проведения эксперимента"
   ]
  },
  {
   "cell_type": "code",
   "execution_count": 84,
   "id": "93e7dd60-aa64-4f42-9176-7676773f834f",
   "metadata": {},
   "outputs": [],
   "source": [
    "q0 = \"\"\"\n",
    "SELECT exp_group,\n",
    "        user_id,\n",
    "        sum(action='like') as likes,\n",
    "        sum(action='view') as views,\n",
    "        likes/ views as ctr\n",
    "FROM {db}.feed_actions \n",
    "WHERE toDate(time) BETWEEN toDate('2022-12-25') AND toDate('2022-12-31')\n",
    "    AND exp_group IN (2, 3)\n",
    "GROUP BY exp_group, user_id\n",
    "    \"\"\"\n",
    "\n",
    "df0 = ph.read_clickhouse(q0, connection=connection)"
   ]
  },
  {
   "cell_type": "code",
   "execution_count": 85,
   "id": "b6059b14-a9f3-4a80-88ab-a78c107d3358",
   "metadata": {},
   "outputs": [
    {
     "data": {
      "image/png": "[encoded data removed]",
      "text/plain": [
       "<Figure size 576x432 with 1 Axes>"
      ]
     },
     "metadata": {
      "needs_background": "light"
     },
     "output_type": "display_data"
    }
   ],
   "source": [
    "# посмотрим визуально, насколько различаются распределение ctr в группах\n",
    "\n",
    "sns.histplot(data=df0, x='ctr', hue='exp_group', palette=['red', 'blue'], alpha=0.2, kde=False)\n",
    "plt.legend(['test', 'control'])\n",
    "plt.show()"
   ]
  },
  {
   "cell_type": "code",
   "execution_count": 86,
   "id": "4d2d6c9c-3e89-4245-a094-56cde9b73276",
   "metadata": {},
   "outputs": [],
   "source": [
    "# запускаем цикл на 10000 итераций: случайно выбираем 500 пользователей из группы без возвращения, проводим t-test\n",
    "p_values = []\n",
    "for i in range(10000):\n",
    "    exp_group_2 = df0[df0['exp_group'] == 2]['ctr'].sample(500, replace=False)\n",
    "    exp_group_3 = df0[df0['exp_group'] == 3]['ctr'].sample(500, replace=False)\n",
    "    t_test_res = stats.ttest_ind(exp_group_2, exp_group_3, equal_var=False)            \n",
    "    p_values.append(t_test_res[1])\n",
    "    "
   ]
  },
  {
   "cell_type": "code",
   "execution_count": 87,
   "id": "e20acea2-1623-4f56-9020-88988afb7f07",
   "metadata": {},
   "outputs": [
    {
     "data": {
      "image/png": "[encoded data removed]",
      "text/plain": [
       "<Figure size 576x432 with 1 Axes>"
      ]
     },
     "metadata": {
      "needs_background": "light"
     },
     "output_type": "display_data"
    }
   ],
   "source": [
    "# рисуем гистограмму распределения p-values: распределение p-values похоже на равномерное\n",
    "\n",
    "sns.histplot(data=p_values, bins=100)\n",
    "\n",
    "plt.show()"
   ]
  },
  {
   "cell_type": "code",
   "execution_count": 89,
   "id": "6e5ede98-e731-4b9c-a893-663ce48d4b22",
   "metadata": {},
   "outputs": [
    {
     "data": {
      "text/plain": [
       "0.0469"
      ]
     },
     "execution_count": 89,
     "metadata": {},
     "output_type": "execute_result"
    }
   ],
   "source": [
    "# посчитаем % p-values, значения которых <= 0.05\n",
    "\n",
    "sum([x <= 0.05 for x in p_values]) / len(p_values)"
   ]
  },
  {
   "cell_type": "markdown",
   "id": "8a13fb73-b5db-4845-925f-c2d3cd5795fb",
   "metadata": {},
   "source": [
    "*Вывод*: Из 10000 экспериментов только в 4,69% случаев p-value меньше 0.05. Это говорит о том, что на уровне значимости 5% мы можем принять нулевую гипотезу о равенсте ctr групп 2 и 3 и предположение, что статистически значимые различия между двумя группами встречаются только в результате случайного ложного срабатывания.\n",
    "Таким образом можем использовать эти группы для проведения эксперимента."
   ]
  },
  {
   "cell_type": "markdown",
   "id": "29c99236-f25d-47e6-8eca-4dc0f436ff4a",
   "metadata": {
    "tags": []
   },
   "source": [
    "### A/B тест"
   ]
  },
  {
   "cell_type": "code",
   "execution_count": 23,
   "id": "8a43ac62-aee5-491b-b846-30df34b34117",
   "metadata": {},
   "outputs": [],
   "source": [
    "q = \"\"\"\n",
    "SELECT exp_group,\n",
    "        user_id,\n",
    "        sum(action='like') as likes,\n",
    "        sum(action='view') as views,\n",
    "        likes/ views as ctr\n",
    "FROM {db}.feed_actions \n",
    "WHERE toDate(time) BETWEEN toDate('2023-01-01') AND toDate('2023-01-07')\n",
    "    AND exp_group IN (2, 3)\n",
    "GROUP BY exp_group, user_id\n",
    "    \"\"\"\n",
    "df = ph.read_clickhouse(q, connection=connection)\n"
   ]
  },
  {
   "cell_type": "code",
   "execution_count": 24,
   "id": "5de98b51-4134-41c4-b44e-1e31679dadff",
   "metadata": {},
   "outputs": [
    {
     "data": {
      "text/html": [
       "<div>\n",
       "<style scoped>\n",
       "    .dataframe tbody tr th:only-of-type {\n",
       "        vertical-align: middle;\n",
       "    }\n",
       "\n",
       "    .dataframe tbody tr th {\n",
       "        vertical-align: top;\n",
       "    }\n",
       "\n",
       "    .dataframe thead th {\n",
       "        text-align: right;\n",
       "    }\n",
       "</style>\n",
       "<table border=\"1\" class=\"dataframe\">\n",
       "  <thead>\n",
       "    <tr style=\"text-align: right;\">\n",
       "      <th></th>\n",
       "      <th>user_id</th>\n",
       "      <th>likes</th>\n",
       "      <th>views</th>\n",
       "      <th>ctr</th>\n",
       "    </tr>\n",
       "    <tr>\n",
       "      <th>exp_group</th>\n",
       "      <th></th>\n",
       "      <th></th>\n",
       "      <th></th>\n",
       "      <th></th>\n",
       "    </tr>\n",
       "  </thead>\n",
       "  <tbody>\n",
       "    <tr>\n",
       "      <th>2</th>\n",
       "      <td>9952</td>\n",
       "      <td>9952</td>\n",
       "      <td>9952</td>\n",
       "      <td>9952</td>\n",
       "    </tr>\n",
       "    <tr>\n",
       "      <th>3</th>\n",
       "      <td>10049</td>\n",
       "      <td>10049</td>\n",
       "      <td>10049</td>\n",
       "      <td>10049</td>\n",
       "    </tr>\n",
       "  </tbody>\n",
       "</table>\n",
       "</div>"
      ],
      "text/plain": [
       "           user_id  likes  views    ctr\n",
       "exp_group                              \n",
       "2             9952   9952   9952   9952\n",
       "3            10049  10049  10049  10049"
      ]
     },
     "execution_count": 24,
     "metadata": {},
     "output_type": "execute_result"
    }
   ],
   "source": [
    "# пользователи распределены приблизительно равномерно\n",
    "\n",
    "df.groupby('exp_group').count()"
   ]
  },
  {
   "cell_type": "code",
   "execution_count": 28,
   "id": "85988b59-c2a4-4d47-9fd2-dd2f0e86006b",
   "metadata": {},
   "outputs": [],
   "source": [
    "# создадим выборки по группам\n",
    "\n",
    "group_test = df[df['exp_group'] == 2].drop(['likes', 'views'], axis=1)\n",
    "group_control = df[df['exp_group'] == 3].drop(['likes', 'views'], axis=1)"
   ]
  },
  {
   "cell_type": "code",
   "execution_count": 63,
   "id": "bda242d6-3e1c-4bfc-8335-a3b1cbdf643c",
   "metadata": {},
   "outputs": [
    {
     "name": "stdout",
     "output_type": "stream",
     "text": [
      "mean_test:  0.21 mean_control:  0.23\n",
      "median_test:  0.14 median_control:  0.22\n"
     ]
    },
    {
     "data": {
      "image/png": "[encoded data removed]",
      "text/plain": [
       "<Figure size 576x432 with 1 Axes>"
      ]
     },
     "metadata": {
      "needs_background": "light"
     },
     "output_type": "display_data"
    }
   ],
   "source": [
    "# при визуальной оценке рапределение группы 2 очень скошено право, при этом бимодальное. Это значит, точно нельзя делать t-test\n",
    "# группа 1 распределена более-менее нормально, при этом групповые средние почти совпадают\n",
    "\n",
    "print('mean_test: ', group_test['ctr'].mean().round(2), 'mean_control: ', group_control['ctr'].mean().round(2))\n",
    "print('median_test: ', group_test['ctr'].median().round(2), 'median_control: ', group_control['ctr'].median().round(2))\n",
    "\n",
    "sns.histplot(data=df, x='ctr', hue='exp_group', palette=['blue', 'pink'], alpha=0.5, bins=100)\n",
    "plt.axvline(group_test['ctr'].mean(), color='darkblue')\n",
    "plt.axvline(group_control['ctr'].mean(), color='indianred')\n",
    "\n",
    "plt.legend(['control', 'test'])\n",
    "plt.show()\n"
   ]
  },
  {
   "cell_type": "code",
   "execution_count": 30,
   "id": "45c86c8d-23f8-48e4-b39b-5b86f9711100",
   "metadata": {},
   "outputs": [],
   "source": [
    "# сохраним для анализа id юзеров, у которых ctr меньше среднего и больше среднего\n",
    "\n",
    "users_sad = df[(df['exp_group'] == 2) & (df['ctr'] < group_test['ctr'].mean())]['user_id'].to_list()\n",
    "users_happy = df[(df['exp_group'] == 2) & (df['ctr'] > group_test['ctr'].mean())]['user_id'].to_list()"
   ]
  },
  {
   "cell_type": "code",
   "execution_count": 31,
   "id": "fa6eaa8c-1306-4c87-b774-4fa8e46a458a",
   "metadata": {},
   "outputs": [
    {
     "data": {
      "text/plain": [
       "(5620, 4332)"
      ]
     },
     "execution_count": 31,
     "metadata": {},
     "output_type": "execute_result"
    }
   ],
   "source": [
    "len(users_sad), len(users_happy)"
   ]
  },
  {
   "cell_type": "markdown",
   "id": "40b4619e-42e4-463e-a9bf-a035a5ab99b0",
   "metadata": {
    "tags": []
   },
   "source": [
    "## Тест Манна-Уитни"
   ]
  },
  {
   "cell_type": "code",
   "execution_count": 32,
   "id": "4c272005-3692-4149-80ba-81f2b2fee604",
   "metadata": {},
   "outputs": [
    {
     "data": {
      "text/plain": [
       "MannwhitneyuResult(statistic=41051053.0, pvalue=1.4033850708193012e-106)"
      ]
     },
     "execution_count": 32,
     "metadata": {},
     "output_type": "execute_result"
    }
   ],
   "source": [
    "# Проверим расчетные ctr на тесте Манна-Уитни\n",
    "\n",
    "# H0: P(group_test > group_control) = P(group_control > group_test)\n",
    "# H1: P(group_test > group_control) != P(group_control > group_test)\n",
    "# Критерий: Манна-Уитни\n",
    "# Уровень значимости: 0.05\n",
    "# Результат: p-val < 0.05\n",
    "# Вывод: отвергаем H0, принимаем нипотезу, вероятности получить значения в одной группе больше, чем в другой равны, \n",
    "# то есть значения в группах отличаюся значимо\n",
    "\n",
    "mann_test = stats.mannwhitneyu(group_test['ctr'], group_control['ctr'], alternative='two-sided')\n",
    "mann_test"
   ]
  },
  {
   "cell_type": "markdown",
   "id": "f7c9c8d6-46e6-46c8-8ee2-067ef8a61c7d",
   "metadata": {},
   "source": [
    "## Сглаженный CTR"
   ]
  },
  {
   "attachments": {
    "d3d0b6ee-3b68-4e13-b336-30c3712ee206.png": {
     "image/png": "[encoded data removed]"
    }
   },
   "cell_type": "markdown",
   "id": "434f2ad8-c324-460f-a77b-c30141b14392",
   "metadata": {},
   "source": [
    "Метод используется, чтобы нивеоировать аномальные значения, возникшие у пользователей с низким количеством просмотров/лайков\n",
    "\n",
    "![image.png](attachment:d3d0b6ee-3b68-4e13-b336-30c3712ee206.png)"
   ]
  },
  {
   "cell_type": "code",
   "execution_count": 37,
   "id": "cfceaf09-6abc-441b-9b4c-e59e58e7daf2",
   "metadata": {},
   "outputs": [],
   "source": [
    "# расчитаем глобальные ctr для каждой группы\n",
    "\n",
    "global_ctr_2 = df[df['exp_group'] == 2]['likes'].sum() / df[df['exp_group'] == 2]['views'].sum()\n",
    "global_ctr_3 = df[df['exp_group'] == 3]['likes'].sum() / df[df['exp_group'] == 3]['views'].sum()"
   ]
  },
  {
   "cell_type": "code",
   "execution_count": 38,
   "id": "16657932-b776-4234-b545-c39d5a95f386",
   "metadata": {},
   "outputs": [],
   "source": [
    "#  функция расчета сглаженного ctr\n",
    "def get_smooth_ctr(likes, views, global_ctr, alpha=0):\n",
    "    smooth_ctr = (likes + alpha * global_ctr) / (views + alpha)\n",
    "    \n",
    "    return smooth_ctr"
   ]
  },
  {
   "cell_type": "code",
   "execution_count": 39,
   "id": "23929e73-fb2e-407c-86e4-65136d7cb95a",
   "metadata": {},
   "outputs": [],
   "source": [
    "# добавим колонки со сглаженным ctr\n",
    "group_test['smooth_ctr'] = df.apply(lambda x: get_smooth_ctr(x['likes'], x['views'], global_ctr_2, alpha=5), axis=1)\n",
    "group_control['smooth_ctr'] = df.apply(lambda x: get_smooth_ctr(x['likes'], x['views'], global_ctr_3, alpha=5), axis=1)\n"
   ]
  },
  {
   "cell_type": "code",
   "execution_count": 64,
   "id": "79382854-a926-4a86-b419-35b07f068f21",
   "metadata": {},
   "outputs": [
    {
     "name": "stdout",
     "output_type": "stream",
     "text": [
      "mean_test:  0.21 mean_control:  0.23\n",
      "median_test:  0.15 median_control:  0.22\n"
     ]
    },
    {
     "data": {
      "image/png": "[encoded data removed]",
      "text/plain": [
       "<Figure size 576x432 with 1 Axes>"
      ]
     },
     "metadata": {
      "needs_background": "light"
     },
     "output_type": "display_data"
    }
   ],
   "source": [
    "# посмотрим, как изменилось распределение при сглаженном ctr\n",
    "# кардинально разброс в данных остался таким же\n",
    "\n",
    "print('mean_test: ', group_test['smooth_ctr'].mean().round(2), 'mean_control: ', group_control['smooth_ctr'].mean().round(2))\n",
    "print('median_test: ', group_test['smooth_ctr'].median().round(2), 'median_control: ', group_control['smooth_ctr'].median().round(2))\n",
    "\n",
    "sns.histplot(data=group_test, x='smooth_ctr', alpha=0.5, bins=100, color='blue')\n",
    "sns.histplot(data=group_control, x='smooth_ctr', alpha=0.5, bins=100, color='pink')\n",
    "plt.axvline(group_test['smooth_ctr'].mean(), color='darkblue')\n",
    "plt.axvline(group_control['smooth_ctr'].mean(), color='indianred')\n",
    "plt.legend(['test', 'control'])\n",
    "plt.show()"
   ]
  },
  {
   "cell_type": "code",
   "execution_count": 65,
   "id": "b187493b-c732-41ed-8ed0-10dd7897f008",
   "metadata": {},
   "outputs": [
    {
     "data": {
      "text/plain": [
       "MannwhitneyuResult(statistic=40399469.0, pvalue=2.3341322073006608e-122)"
      ]
     },
     "execution_count": 65,
     "metadata": {},
     "output_type": "execute_result"
    }
   ],
   "source": [
    "# Проверим сглаженные ctr на тесте Манна-Уитни\n",
    "\n",
    "# H0: P(group_test > group_control) = P(group_control > group_test)\n",
    "# H1: P(group_test > group_control) != P(group_control > group_test)\n",
    "# Критерий: Манна-Уитни\n",
    "# Уровень значимости: 0.05\n",
    "# Результат: p-val < 0.05. \n",
    "# Вывод: отвергаем H0, принимаем нипотезу, вероятности получить значения в одной группе больше, чем в другой равны, \n",
    "# то есть значения в группах отличаюся значимо\n",
    "\n",
    "mann_test = stats.mannwhitneyu(group_test['smooth_ctr'], group_control['smooth_ctr'], alternative='two-sided')\n",
    "mann_test"
   ]
  },
  {
   "cell_type": "markdown",
   "id": "122e62b8-183b-4453-bb0a-edbf39481edc",
   "metadata": {},
   "source": [
    "## Пуассоновский бутсреп"
   ]
  },
  {
   "cell_type": "code",
   "execution_count": 81,
   "id": "eb134e85-dd1c-4a49-a229-2a5a9b0a5ee3",
   "metadata": {},
   "outputs": [],
   "source": [
    "# формируем массивы значений лайков и просмотров по обеим группам\n",
    "\n",
    "likes2 = df[df['exp_group'] == 2]['likes'].to_numpy() \n",
    "likes3 = df[df['exp_group'] == 3]['likes'].to_numpy()\n",
    "views2 = df[df['exp_group'] == 2]['views'].to_numpy() \n",
    "views3 = df[df['exp_group'] == 3]['views'].to_numpy() \n",
    "\n",
    "def bootstrap(likes2, likes3, views2, views3, n_bootstrap=2000):\n",
    "    # формируем веса для каждого значение\n",
    "    poisson_boost2 = stats.poisson(1).rvs((n_bootstrap, len(likes2))).astype(np.int64)\n",
    "    poisson_boost3 = stats.poisson(1).rvs((n_bootstrap, len(likes3))).astype(np.int64)\n",
    "    \n",
    "    # считаем глобальные ctr по группам\n",
    "    glob_ctr2 = (poisson_boost2 * likes2).sum(axis=1) / (poisson_boost2 * views2).sum(axis=1)\n",
    "    glob_ctr3 = (poisson_boost3 * likes3).sum(axis=1) / (poisson_boost3 * views3).sum(axis=1)\n",
    "    \n",
    "    return glob_ctr2, glob_ctr3"
   ]
  },
  {
   "cell_type": "code",
   "execution_count": 82,
   "id": "230a82c7-249c-4b5a-99b7-45598189381b",
   "metadata": {},
   "outputs": [],
   "source": [
    "# считаем ctr по бутстрэп выборкам\n",
    "\n",
    "ctr2, ctr3 = bootstrap(likes2, likes3, views2, views3)"
   ]
  },
  {
   "cell_type": "code",
   "execution_count": 83,
   "id": "15331734-d919-4697-b050-a2bde01d909c",
   "metadata": {},
   "outputs": [
    {
     "data": {
      "image/png": "[encoded data removed]",
      "text/plain": [
       "<Figure size 576x432 with 1 Axes>"
      ]
     },
     "metadata": {
      "needs_background": "light"
     },
     "output_type": "display_data"
    }
   ],
   "source": [
    "# на графике видно, что распределения очень далеки друг от друга, причем у контрольной группы ctr выше\n",
    "\n",
    "sns.histplot(ctr2, bins=100, label='2')\n",
    "sns.histplot(ctr3, color='pink', bins=100, label='3')\n",
    "plt.axvline(ctr2.mean(), color='darkblue')\n",
    "plt.axvline(ctr3.mean(), color='indianred')\n",
    "\n",
    "plt.legend(['test', 'control'])\n",
    "plt.show()"
   ]
  },
  {
   "cell_type": "markdown",
   "id": "1de49b2f-5680-43d1-86e5-b15fb0585d58",
   "metadata": {},
   "source": [
    "## Бакетное преобразование"
   ]
  },
  {
   "cell_type": "code",
   "execution_count": 76,
   "id": "8c0c284c-d0fa-4c72-85b1-377ed0db88e0",
   "metadata": {},
   "outputs": [],
   "source": [
    "q2 = \"\"\"\n",
    "SELECT exp_group, \n",
    "        bucket,\n",
    "        sum(likes) / sum(views) as bucket_ctr\n",
    "FROM (\n",
    "    SELECT exp_group,\n",
    "            xxHash64(user_id)%50 as bucket,\n",
    "            user_id,\n",
    "            sum(action='like') as likes,\n",
    "            sum(action='view') as views,\n",
    "            likes/views as ctr\n",
    "    FROM {db}.feed_actions\n",
    "    WHERE toDate(time) BETWEEN toDate('2023-01-01') AND toDate('2023-01-07')\n",
    "                        AND exp_group IN (2, 3)\n",
    "    GROUP BY exp_group, bucket, user_id)\n",
    "GROUP BY exp_group, bucket\n",
    "\"\"\""
   ]
  },
  {
   "cell_type": "code",
   "execution_count": 77,
   "id": "0a8fbbea-975a-4899-a2bc-c8f74dc5cb9a",
   "metadata": {},
   "outputs": [],
   "source": [
    "df2 = ph.read_clickhouse(q2, connection=connection)"
   ]
  },
  {
   "cell_type": "code",
   "execution_count": 78,
   "id": "ccce9993-5e93-4bb5-b0ea-efb6b250a0b8",
   "metadata": {},
   "outputs": [
    {
     "data": {
      "image/png": "[encoded data removed]",
      "text/plain": [
       "<Figure size 576x432 with 1 Axes>"
      ]
     },
     "metadata": {
      "needs_background": "light"
     },
     "output_type": "display_data"
    }
   ],
   "source": [
    "# как видно на графике, распредеоения групповых ctr сдвинуты относительно друг друга, причем тестовая группа левее, \n",
    "# то есть, ее значения меньше. проверим это на тесте ниже\n",
    "\n",
    "sns.histplot(df2[df2['exp_group'] == 2]['bucket_ctr'], bins=20)\n",
    "sns.histplot(df2[df2['exp_group'] == 3]['bucket_ctr'], color='pink', bins=10)\n",
    "plt.axvline(df2[df2['exp_group'] == 2]['bucket_ctr'].mean(), color='darkblue')\n",
    "plt.axvline(df2[df2['exp_group'] == 3]['bucket_ctr'].mean(), color='indianred')\n",
    "\n",
    "plt.legend(['test', 'control'])\n",
    "plt.show()"
   ]
  },
  {
   "cell_type": "code",
   "execution_count": 80,
   "id": "6e96d062-9f3b-4fc2-b994-edf1715f9bcb",
   "metadata": {},
   "outputs": [
    {
     "data": {
      "text/plain": [
       "MannwhitneyuResult(statistic=73.0, pvalue=5.037908645567343e-16)"
      ]
     },
     "execution_count": 80,
     "metadata": {},
     "output_type": "execute_result"
    }
   ],
   "source": [
    "# H0: P(group_test > group_control) = P(group_control > group_test)\n",
    "# H1: P(group_test > group_control) != P(group_control > group_test)\n",
    "# Критерий: Манна-Уитни\n",
    "# Уровень значимости: 0.05\n",
    "# Результат: p-val > 0.05. \n",
    "# Вывод: отвергаем H0, принимаем нипотезу, вероятности получить значения в одной группе больше, чем в другой равны, \n",
    "# то есть значения в группах отличаюся значимо\n",
    "\n",
    "mann_test = stats.mannwhitneyu(df2[df2['exp_group'] == 2]['bucket_ctr'], df2[df2['exp_group'] == 3]['bucket_ctr'], alternative='two-sided')\n",
    "mann_test"
   ]
  },
  {
   "cell_type": "markdown",
   "id": "6790253b-c354-4f85-a96d-bef438265d0f",
   "metadata": {
    "tags": []
   },
   "source": [
    "## Промежуточный вывод"
   ]
  },
  {
   "cell_type": "markdown",
   "id": "f6cc97c9-1b4a-43a8-aefa-6ec2f8584c2d",
   "metadata": {},
   "source": [
    "Эффект от нововведения получился неоднозначным - так как для части пользователей ctr изменился в худшую сторону, а для части - в лучшую. При этом плохого эффекта больше, это хорошо видно на всех графиках - изначальном ctr, пуассоновском бустрэпе и анализе через бакетное преобразование. <br>\n",
    "\n",
    "Посмотрим, как изменялось распределение лайков и просмотов у польщователей тестовой группы. Для этого будем условно поделим ее на две группы - \"грустная\" (ctr ниже средней) и \"счастливая\" (ctr выше средней)"
   ]
  },
  {
   "cell_type": "code",
   "execution_count": 90,
   "id": "6bebc617-9490-44d7-8df7-e4de03ab3cc4",
   "metadata": {},
   "outputs": [],
   "source": [
    "q3 = \"\"\"\n",
    "SELECT toDate(time) as time,\n",
    "        user_id,\n",
    "        sum(action='like') as likes,\n",
    "        sum(action='view') as views\n",
    "FROM {db}.feed_actions \n",
    "WHERE toDate(time) BETWEEN toDate('2023-01-01') AND toDate('2023-01-07')\n",
    "    AND exp_group = 2\n",
    "GROUP BY time, user_id\n",
    "    \"\"\"\n",
    "df2 = ph.read_clickhouse(q3, connection=connection)"
   ]
  },
  {
   "cell_type": "code",
   "execution_count": 91,
   "id": "b133c255-bc9c-4dc0-bd80-951f0d3d1c8d",
   "metadata": {},
   "outputs": [],
   "source": [
    "# создадим датасеты юзеров, поделенных по уровню ctr\n",
    "\n",
    "df_sad = df2[df2['user_id'].isin(users_sad)].sort_values(by='time')\n",
    "df_happy = df2[df2['user_id'].isin(users_happy)].sort_values(by='time')"
   ]
  },
  {
   "cell_type": "code",
   "execution_count": 92,
   "id": "e45b786d-07ea-4243-aeaf-eb4aae153ae4",
   "metadata": {},
   "outputs": [
    {
     "data": {
      "image/png": "[encoded data removed]",
      "text/plain": [
       "<Figure size 1152x432 with 4 Axes>"
      ]
     },
     "metadata": {
      "needs_background": "light"
     },
     "output_type": "display_data"
    }
   ],
   "source": [
    "# посмотрим, как изменялось их поведение со временем\n",
    "# на графике видно, что большая часть учеличения ctr обусловлена падением просмотров, а не ростом количества лайков\n",
    "\n",
    "df_sad_plot = df_sad.groupby('time', as_index=False)[['likes', 'views']].sum()\n",
    "df_happy_plot = df_happy.groupby('time', as_index=False)[['likes', 'views']].sum()\n",
    "\n",
    "fig, ax = plt.subplots(1, 2, sharey=True)\n",
    "fig.set_size_inches(16, 6)\n",
    "\n",
    "ax[0].plot(df_sad_plot['time'], df_sad_plot['likes'], color='red')\n",
    "ax[0].plot(df_sad_plot['time'], df_sad_plot['views'])\n",
    "ax[0].legend(['likes', 'views'])\n",
    "ax[0].set_title('Activity of users with smaller ctr')\n",
    "axc0 = ax[0].twinx()\n",
    "axc0.plot(df_sad_plot['time'], df_sad_plot['likes']/df_sad_plot['views'], '--g')\n",
    "axc0.legend(['ctr'], loc='upper right')\n",
    "axc0.set_ylim(0, 0.5)\n",
    "# axc0.autoscale()\n",
    "\n",
    "ax[1].plot(df_happy_plot['time'], df_happy_plot['likes'], color='red')\n",
    "ax[1].plot(df_happy_plot['time'], df_happy_plot['views'])\n",
    "ax[1].legend(['likes', 'views'])\n",
    "ax[1].set_title('Activity of users with bigger ctr')\n",
    "axc1 = ax[1].twinx()\n",
    "axc1.plot(df_happy_plot['time'], df_happy_plot['likes'] / df_happy_plot['views'], '--g')\n",
    "axc1.legend(['ctr'], loc='upper right')\n",
    "axc1.set_ylim(0, 0.5)\n",
    "\n",
    "\n",
    "plt.show() "
   ]
  },
  {
   "cell_type": "code",
   "execution_count": 93,
   "id": "ae9b45f4-932b-4e94-b887-9d8f6eae9d25",
   "metadata": {},
   "outputs": [
    {
     "data": {
      "image/png": "[encoded data removed]",
      "text/plain": [
       "<Figure size 1152x432 with 2 Axes>"
      ]
     },
     "metadata": {
      "needs_background": "light"
     },
     "output_type": "display_data"
    }
   ],
   "source": [
    "# посмотрим, как распределелялись лайки и просмотры по частоте в обеих группах\n",
    "#  на графиках видно, что распределение просмотров очень похожи, но просмотров в \"грустной\" группе (низкий ctr) явно больше, \n",
    "# чем в счастливой (высокий ctr)\n",
    "# распределение лайков же имеет гораздо более различимый характер\n",
    "# проверим на стат.тестах разницу в выборках по лайкам и просмотрам\n",
    "\n",
    "fig, ax = plt.subplots(1, 2)\n",
    "fig.set_size_inches(16, 6)\n",
    "\n",
    "\n",
    "ax[0].hist(df_sad['views'], color='blue', alpha=0.7, bins=50, label='sad users')\n",
    "ax[0].hist(df_happy['views'], color='pink', alpha=0.7, bins=50, label='happy users')\n",
    "ax[0].legend()\n",
    "ax[0].set_title('Рапределение просмотров по группам с высоким и низким ctr')\n",
    "\n",
    "ax[1].hist(df_sad['likes'], color='blue', alpha=0.5, bins=50, label='sad users')\n",
    "ax[1].hist(df_happy['likes'], color='pink', alpha=0.7, bins=50, label='happy users')\n",
    "ax[1].legend()\n",
    "ax[1].set_title('Рапределение лайков по группам с высоким и низким ctr')\n",
    "\n",
    "\n",
    "\n",
    "plt.show()"
   ]
  },
  {
   "cell_type": "code",
   "execution_count": 94,
   "id": "2e85a5ef-c454-4b8b-ab41-7032b13c73e2",
   "metadata": {},
   "outputs": [
    {
     "data": {
      "text/plain": [
       "(Ttest_indResult(statistic=12.211740895518107, pvalue=1.8341298441290196e-34),\n",
       " MannwhitneyuResult(statistic=48748312.0, pvalue=1.2741530606834328e-29))"
      ]
     },
     "execution_count": 94,
     "metadata": {},
     "output_type": "execute_result"
    }
   ],
   "source": [
    "# Проверим первую гипотезу о разности распределений просмотров\n",
    "\n",
    "# H0: средняя величина распределения просмотов у группы с низким ctr такая же, как у группы с высоким ctr\n",
    "# H1: средняя величина распределения просмотов у группы с низким ctr выше, чем у группы с высоким ctr\n",
    "# Критерий: t-критерий Стьюдента, u-критерий Манна-Уитни\n",
    "# Уровень значимости: 0.05\n",
    "# Результат: p-val > 0.05 для обоих тестов. \n",
    "# Вывод: отвергаем H0, о равенстве средних, т.о. приинимаем гипотезц, что среднее кол-во просмотров в \"грустной\" группе выше\n",
    "\n",
    "stats.ttest_ind(df_sad['views'], df_happy['views'], equal_var=False, alternative='greater'),\\\n",
    "stats.mannwhitneyu(df_sad['views'], df_happy['views'], alternative='greater')"
   ]
  },
  {
   "cell_type": "code",
   "execution_count": 95,
   "id": "6c630a6e-fafc-4f73-9bbb-865982c3ae46",
   "metadata": {},
   "outputs": [
    {
     "data": {
      "text/plain": [
       "(Ttest_indResult(statistic=-89.28789947144992, pvalue=0.0),\n",
       " MannwhitneyuResult(statistic=11704620.0, pvalue=0.0))"
      ]
     },
     "execution_count": 95,
     "metadata": {},
     "output_type": "execute_result"
    }
   ],
   "source": [
    "# Проверим первую гипотезу о разности распределений просмотров\n",
    "\n",
    "# H0: средняя величина распределения лайков у группы с низким ctr такая же, как у группы с высоким ctr\n",
    "# H1: средняя величина распределения лайков у группы с низким ctr ниже, чем у группы с высоким ctr\n",
    "# Критерий: t-критерий Стьюдента, u-критерий Манна-Уитни\n",
    "# Уровень значимости: 0.05\n",
    "# Результат: p-val = 0 для обоих тестов, т.о. верроятность H0=0\n",
    "# Вывод: отвергаем H0, о равенстве средних, т.о. среднее кол-во лайков в \"грустной\" группе ниже, чем у \"счастливой\"\n",
    "\n",
    "stats.ttest_ind(df_sad['likes'], df_happy['likes'], equal_var=False, alternative='less'),\\\n",
    "stats.mannwhitneyu(df_sad['likes'], df_happy['likes'], alternative='less')"
   ]
  },
  {
   "cell_type": "code",
   "execution_count": 96,
   "id": "7f52c7fe-50de-412e-a469-677f28e9930b",
   "metadata": {},
   "outputs": [
    {
     "data": {
      "text/plain": [
       "(Ttest_indResult(statistic=-26.81861102094981, pvalue=2.1752939837594994e-156),\n",
       " MannwhitneyuResult(statistic=71424420.0, pvalue=2.913060234306159e-39))"
      ]
     },
     "execution_count": 96,
     "metadata": {},
     "output_type": "execute_result"
    }
   ],
   "source": [
    "# проверим гипотезу, что лайков в \"счастливой\" группе количество лайков все равно меньше, чем в изначально контрольной группе\n",
    "\n",
    "# H0: средняя величина распределения лайков у \"счатливой\" группы такая же, как у контрольной группы\n",
    "# H1: средняя величина распределения лайков у \"счатливой\" группы ниже, чем у контрольной группы \n",
    "# Критерий: t-критерий Стьюдента, u-критерий Манна-Уитни\n",
    "# Уровень значимости: 0.05\n",
    "# Результат: p-val Б 0.05 для обоих тестов, \n",
    "# Вывод: отвергаем H0, о равенстве средних, т.о. среднее кол-во лайков у \"счатливой\" группы ниже, чем у контрольной группы\n",
    "\n",
    "stats.ttest_ind(df_happy['likes'], df['likes'], equal_var=False, alternative='less'),\\\n",
    "stats.mannwhitneyu(df_happy['likes'], df['likes'], alternative='less')"
   ]
  },
  {
   "cell_type": "markdown",
   "id": "058fe7a6-f5d9-4397-be7f-97317ccee986",
   "metadata": {},
   "source": [
    "### Выводы"
   ]
  },
  {
   "cell_type": "markdown",
   "id": "dfb1bcf4-4e34-40ec-8b89-1d3ac6f49393",
   "metadata": {},
   "source": [
    "Более подробный анализ польователей тестовой группы показал, что она условно разделилась на два кластера: \n",
    "-первая группа (ctr ниже средней по группе)  совершила больше просмотров, но при этом меньше лайков <br>\n",
    "-вторая группа(ctr выше средней по группе) совершила меньше просмотров, но при этом больше лайков.<br>\n",
    "\n",
    "Таким образом, рост ctr был обусловлен отчасти тем, что упали просмотры, а не тем, что выросли лайки. То есть, пользователи первой группы заходили чаще, но им не нравился контент и они его не лайкали, а на пользователи второй группы стали заходить реже, но лайкать в привычном режиме. Эти гипотезы можно проверить более глубоким исследование  - например, сравнив \"вторую группу\" с контрольной и посмотреть, как изменились метрики относительно нее."
   ]
  },
  {
   "cell_type": "code",
   "execution_count": null,
   "id": "baf9bb05-7336-4d5b-b6c1-d1bb8535824e",
   "metadata": {},
   "outputs": [],
   "source": []
  },
  {
   "cell_type": "code",
   "execution_count": null,
   "id": "df617704-d76e-4aea-9867-c7301b8ffcf8",
   "metadata": {},
   "outputs": [],
   "source": []
  }
 ],
 "metadata": {
  "kernelspec": {
   "display_name": "Python 3 (ipykernel)",
   "language": "python",
   "name": "python3"
  },
  "language_info": {
   "codemirror_mode": {
    "name": "ipython",
    "version": 3
   },
   "file_extension": ".py",
   "mimetype": "text/x-python",
   "name": "python",
   "nbconvert_exporter": "python",
   "pygments_lexer": "ipython3",
   "version": "3.8.10"
  }
 },
 "nbformat": 4,
 "nbformat_minor": 5
}
